{
  "nbformat": 4,
  "nbformat_minor": 0,
  "metadata": {
    "colab": {
      "provenance": [],
      "toc_visible": true,
      "authorship_tag": "ABX9TyOx6/AL63v2J+Ds1kAFUeoY",
      "include_colab_link": true
    },
    "kernelspec": {
      "name": "python3",
      "display_name": "Python 3"
    },
    "language_info": {
      "name": "python"
    }
  },
  "cells": [
    {
      "cell_type": "markdown",
      "metadata": {
        "id": "view-in-github",
        "colab_type": "text"
      },
      "source": [
        "<a href=\"https://colab.research.google.com/github/jasantos1976/pucrioMVP2/blob/main/mvp2_Deep_Learning.ipynb\" target=\"_parent\"><img src=\"https://colab.research.google.com/assets/colab-badge.svg\" alt=\"Open In Colab\"/></a>"
      ]
    },
    {
      "cell_type": "code",
      "execution_count": null,
      "metadata": {
        "id": "pcqSJfmdxP-_"
      },
      "outputs": [],
      "source": []
    },
    {
      "cell_type": "markdown",
      "source": [
        "# 1. Definição do Problema\n",
        "\n",
        "MVP 2 - Deep Learning - Processamento de Linguagem Natural\n",
        "\n",
        "Esse projeto é a segunda parte do conjunto de entregas referentes ao MVP da Sprint 2  - Machine Learning & Analytics.\n",
        "\n",
        "O objeto desse notebook é treinar um modelo baseado em Deep Learning para resolver um problema de linguagem natural.\n",
        "\n",
        "O dataset utilizado nesse estudo foi obtido na plataforma Kaggle e pode ser baixado pelo link https://www.kaggle.com/datasets/ishikajohari/best-books-10k-multi-genre-data\n",
        "\n",
        "O referido dataset é composto com informações sobre os 10k livros mais recomendados para leitura de todos os tempos. Os dados foram coletados do Goodreads da lista \"*Books That Everyone Should Read At Least Once*\".\n",
        "\n",
        "\n",
        "**O objetivo a ser alcançado nesse projeto é poder sugerir um livro a partir dos dados da descrição.**\n",
        "\n",
        "\n",
        "\n",
        "O dataset é composto por 7 atributos descritos abaixo:\n",
        "\n",
        "**Book** - Nome do livro. Às vezes, isso inclui os detalhes da Série a que pertence entre parênteses. Esta informação pode ser posteriormente extraída para analisar apenas séries.\n",
        "\n",
        "**Author** - Nome do autor do livro\n",
        "\n",
        "**Description** - A descrição do livro conforme mencionado no Goodreads\n",
        "\n",
        "**Genres** - Vários gêneros classificados no Goodreads. Pode ser útil para classificação multi-rótulo ou recomendação baseada em conteúdo e agrupamento. Esse atributo é multivalorado e possivelmente será dividido para facilitar o estudo.\n",
        "\n",
        "**Average Rating** - A classificação média (de 5) dada no Goodreads\n",
        "\n",
        "**Number of Ratings** - O número de usuários que possuem Ratings. (Não confundir com resenhas)\n",
        "\n",
        "**URL** - O URL do Goodreads para a página de detalhes do livro\n",
        "\n"
      ],
      "metadata": {
        "id": "P5FHIZirxVgR"
      }
    },
    {
      "cell_type": "markdown",
      "source": [
        "# 2. Importações das Bibliotecas\n"
      ],
      "metadata": {
        "id": "Hu68ozlO3mBk"
      }
    },
    {
      "cell_type": "code",
      "source": [
        "import pandas as pd\n",
        "import numpy as np\n",
        "\n",
        "# Configuração para não exibir os warnings\n",
        "import warnings\n",
        "warnings.filterwarnings(\"ignore\")\n",
        "\n",
        "# Importação Regular Expression\n",
        "import re\n",
        "\n",
        "# nltk\n",
        "from nltk.corpus import stopwords\n",
        "import nltk\n",
        "nltk.download('stopwords')\n",
        "from nltk.tokenize import RegexpTokenizer\n",
        "\n",
        "# Tratamento de missings\n",
        "import missingno as ms\n",
        "\n",
        "# Biblioteca sklearn\n",
        "from sklearn.metrics.pairwise import cosine_similarity\n",
        "from sklearn.feature_extraction.text import CountVectorizer\n",
        "from sklearn.feature_extraction.text import TfidfVectorizer\n",
        "\n",
        "# Visualização\n",
        "import matplotlib.pyplot as plt\n",
        "import plotly.figure_factory as ff\n",
        "import plotly.graph_objects as go\n",
        "%matplotlib inline"
      ],
      "metadata": {
        "colab": {
          "base_uri": "https://localhost:8080/"
        },
        "id": "j0jYx9ye4QMq",
        "outputId": "1ce01181-46d0-4749-d793-dc0cc6d0c2e3"
      },
      "execution_count": 54,
      "outputs": [
        {
          "output_type": "stream",
          "name": "stderr",
          "text": [
            "[nltk_data] Downloading package stopwords to /root/nltk_data...\n",
            "[nltk_data]   Unzipping corpora/stopwords.zip.\n"
          ]
        }
      ]
    },
    {
      "cell_type": "markdown",
      "source": [
        "# 3. Carga do Dataset"
      ],
      "metadata": {
        "id": "zQHCiC-b3uMp"
      }
    },
    {
      "cell_type": "code",
      "source": [
        "url_books = 'https://raw.githubusercontent.com/jasantos1976/pucrioMVP2/main/goodreads_data.csv'\n",
        "\n",
        "# Cria o dataframe passando os atributos com seus respectivos tipos\n",
        "# e já remove a primeira coluna com números sequenciais\n",
        "df_books = pd.read_csv(url_books, delimiter=',', index_col=0)\n",
        "df_books.reset_index(drop=True, inplace=True)\n",
        "\n",
        "print(df_books)"
      ],
      "metadata": {
        "id": "ll6tA4w834Ce"
      },
      "execution_count": null,
      "outputs": []
    },
    {
      "cell_type": "code",
      "source": [
        "# Para o estudo proposto, 3 colunas não fazem sentido nesse momento:\n",
        "# [Avg_Rating, Num_Ratings, URL]\n",
        "df_books_pred = df_books.loc[:, ['Book', 'Author', 'Description', 'Genres']]\n"
      ],
      "metadata": {
        "id": "Tzp8y2Yn2_WF"
      },
      "execution_count": 8,
      "outputs": []
    },
    {
      "cell_type": "code",
      "source": [
        "# O atributo [Genres] é multivalorado. Para facilitar a leitura e o treino,\n",
        "# farei a divisão em outras colunas.\n",
        "df_books_pred[['Genre_P', 'Genre_S', 'Genre_T', 'GenreQ']] = \\\n",
        "df_books_pred['Genres'].str.split(',', 3, expand=True)\n",
        "\n",
        "# Eliminando colunas que não são mais necessárias\n",
        "cols_drop = ['Genres', 'GenreQ']\n",
        "df_books_pred.drop(cols_drop, axis=1, inplace=True)"
      ],
      "metadata": {
        "id": "NgQKewtuFafC"
      },
      "execution_count": 17,
      "outputs": []
    },
    {
      "cell_type": "code",
      "source": [],
      "metadata": {
        "id": "POrB7erjIYGK"
      },
      "execution_count": null,
      "outputs": []
    },
    {
      "cell_type": "markdown",
      "source": [
        "# 4. Análise Exploratória"
      ],
      "metadata": {
        "id": "V6OSfO-xIxo1"
      }
    },
    {
      "cell_type": "code",
      "source": [
        "# Obtendo informações do dataset\n",
        "df_books_pred.info()"
      ],
      "metadata": {
        "colab": {
          "base_uri": "https://localhost:8080/"
        },
        "id": "We-pByfUEtSr",
        "outputId": "b7c20be1-1653-46d3-bd0f-dab959ac988e"
      },
      "execution_count": 18,
      "outputs": [
        {
          "output_type": "stream",
          "name": "stdout",
          "text": [
            "<class 'pandas.core.frame.DataFrame'>\n",
            "RangeIndex: 10000 entries, 0 to 9999\n",
            "Data columns (total 6 columns):\n",
            " #   Column       Non-Null Count  Dtype \n",
            "---  ------       --------------  ----- \n",
            " 0   Book         10000 non-null  object\n",
            " 1   Author       10000 non-null  object\n",
            " 2   Description  9923 non-null   object\n",
            " 3   Genre_P      10000 non-null  object\n",
            " 4   Genre_S      8689 non-null   object\n",
            " 5   Genre_T      8401 non-null   object\n",
            "dtypes: object(6)\n",
            "memory usage: 468.9+ KB\n"
          ]
        }
      ]
    },
    {
      "cell_type": "code",
      "source": [
        "df_books_pred.describe()"
      ],
      "metadata": {
        "colab": {
          "base_uri": "https://localhost:8080/",
          "height": 174
        },
        "id": "hB1B_vGAFDGC",
        "outputId": "8513cb42-77d5-4eaf-cf7a-ff75d46cbe2f"
      },
      "execution_count": 10,
      "outputs": [
        {
          "output_type": "execute_result",
          "data": {
            "text/plain": [
              "                                            Book        Author  \\\n",
              "count                                      10000         10000   \n",
              "unique                                      9871          6064   \n",
              "top     The Oldest Dance (Wisdom Revolution, #2)  Stephen King   \n",
              "freq                                           4            57   \n",
              "\n",
              "                                              Description Genres  \n",
              "count                                                9923  10000  \n",
              "unique                                               9888   8043  \n",
              "top     This is a reproduction of the original artefac...     []  \n",
              "freq                                                    4    960  "
            ],
            "text/html": [
              "\n",
              "\n",
              "  <div id=\"df-d9f98bca-36b1-4397-beff-ff7f39560d93\">\n",
              "    <div class=\"colab-df-container\">\n",
              "      <div>\n",
              "<style scoped>\n",
              "    .dataframe tbody tr th:only-of-type {\n",
              "        vertical-align: middle;\n",
              "    }\n",
              "\n",
              "    .dataframe tbody tr th {\n",
              "        vertical-align: top;\n",
              "    }\n",
              "\n",
              "    .dataframe thead th {\n",
              "        text-align: right;\n",
              "    }\n",
              "</style>\n",
              "<table border=\"1\" class=\"dataframe\">\n",
              "  <thead>\n",
              "    <tr style=\"text-align: right;\">\n",
              "      <th></th>\n",
              "      <th>Book</th>\n",
              "      <th>Author</th>\n",
              "      <th>Description</th>\n",
              "      <th>Genres</th>\n",
              "    </tr>\n",
              "  </thead>\n",
              "  <tbody>\n",
              "    <tr>\n",
              "      <th>count</th>\n",
              "      <td>10000</td>\n",
              "      <td>10000</td>\n",
              "      <td>9923</td>\n",
              "      <td>10000</td>\n",
              "    </tr>\n",
              "    <tr>\n",
              "      <th>unique</th>\n",
              "      <td>9871</td>\n",
              "      <td>6064</td>\n",
              "      <td>9888</td>\n",
              "      <td>8043</td>\n",
              "    </tr>\n",
              "    <tr>\n",
              "      <th>top</th>\n",
              "      <td>The Oldest Dance (Wisdom Revolution, #2)</td>\n",
              "      <td>Stephen King</td>\n",
              "      <td>This is a reproduction of the original artefac...</td>\n",
              "      <td>[]</td>\n",
              "    </tr>\n",
              "    <tr>\n",
              "      <th>freq</th>\n",
              "      <td>4</td>\n",
              "      <td>57</td>\n",
              "      <td>4</td>\n",
              "      <td>960</td>\n",
              "    </tr>\n",
              "  </tbody>\n",
              "</table>\n",
              "</div>\n",
              "      <button class=\"colab-df-convert\" onclick=\"convertToInteractive('df-d9f98bca-36b1-4397-beff-ff7f39560d93')\"\n",
              "              title=\"Convert this dataframe to an interactive table.\"\n",
              "              style=\"display:none;\">\n",
              "\n",
              "  <svg xmlns=\"http://www.w3.org/2000/svg\" height=\"24px\"viewBox=\"0 0 24 24\"\n",
              "       width=\"24px\">\n",
              "    <path d=\"M0 0h24v24H0V0z\" fill=\"none\"/>\n",
              "    <path d=\"M18.56 5.44l.94 2.06.94-2.06 2.06-.94-2.06-.94-.94-2.06-.94 2.06-2.06.94zm-11 1L8.5 8.5l.94-2.06 2.06-.94-2.06-.94L8.5 2.5l-.94 2.06-2.06.94zm10 10l.94 2.06.94-2.06 2.06-.94-2.06-.94-.94-2.06-.94 2.06-2.06.94z\"/><path d=\"M17.41 7.96l-1.37-1.37c-.4-.4-.92-.59-1.43-.59-.52 0-1.04.2-1.43.59L10.3 9.45l-7.72 7.72c-.78.78-.78 2.05 0 2.83L4 21.41c.39.39.9.59 1.41.59.51 0 1.02-.2 1.41-.59l7.78-7.78 2.81-2.81c.8-.78.8-2.07 0-2.86zM5.41 20L4 18.59l7.72-7.72 1.47 1.35L5.41 20z\"/>\n",
              "  </svg>\n",
              "      </button>\n",
              "\n",
              "\n",
              "\n",
              "    <div id=\"df-ebe3e024-d559-4c3f-9fdb-bcc4f94d63bc\">\n",
              "      <button class=\"colab-df-quickchart\" onclick=\"quickchart('df-ebe3e024-d559-4c3f-9fdb-bcc4f94d63bc')\"\n",
              "              title=\"Suggest charts.\"\n",
              "              style=\"display:none;\">\n",
              "\n",
              "<svg xmlns=\"http://www.w3.org/2000/svg\" height=\"24px\"viewBox=\"0 0 24 24\"\n",
              "     width=\"24px\">\n",
              "    <g>\n",
              "        <path d=\"M19 3H5c-1.1 0-2 .9-2 2v14c0 1.1.9 2 2 2h14c1.1 0 2-.9 2-2V5c0-1.1-.9-2-2-2zM9 17H7v-7h2v7zm4 0h-2V7h2v10zm4 0h-2v-4h2v4z\"/>\n",
              "    </g>\n",
              "</svg>\n",
              "      </button>\n",
              "    </div>\n",
              "\n",
              "<style>\n",
              "  .colab-df-quickchart {\n",
              "    background-color: #E8F0FE;\n",
              "    border: none;\n",
              "    border-radius: 50%;\n",
              "    cursor: pointer;\n",
              "    display: none;\n",
              "    fill: #1967D2;\n",
              "    height: 32px;\n",
              "    padding: 0 0 0 0;\n",
              "    width: 32px;\n",
              "  }\n",
              "\n",
              "  .colab-df-quickchart:hover {\n",
              "    background-color: #E2EBFA;\n",
              "    box-shadow: 0px 1px 2px rgba(60, 64, 67, 0.3), 0px 1px 3px 1px rgba(60, 64, 67, 0.15);\n",
              "    fill: #174EA6;\n",
              "  }\n",
              "\n",
              "  [theme=dark] .colab-df-quickchart {\n",
              "    background-color: #3B4455;\n",
              "    fill: #D2E3FC;\n",
              "  }\n",
              "\n",
              "  [theme=dark] .colab-df-quickchart:hover {\n",
              "    background-color: #434B5C;\n",
              "    box-shadow: 0px 1px 3px 1px rgba(0, 0, 0, 0.15);\n",
              "    filter: drop-shadow(0px 1px 2px rgba(0, 0, 0, 0.3));\n",
              "    fill: #FFFFFF;\n",
              "  }\n",
              "</style>\n",
              "\n",
              "    <script>\n",
              "      async function quickchart(key) {\n",
              "        const containerElement = document.querySelector('#' + key);\n",
              "        const charts = await google.colab.kernel.invokeFunction(\n",
              "            'suggestCharts', [key], {});\n",
              "      }\n",
              "    </script>\n",
              "\n",
              "      <script>\n",
              "\n",
              "function displayQuickchartButton(domScope) {\n",
              "  let quickchartButtonEl =\n",
              "    domScope.querySelector('#df-ebe3e024-d559-4c3f-9fdb-bcc4f94d63bc button.colab-df-quickchart');\n",
              "  quickchartButtonEl.style.display =\n",
              "    google.colab.kernel.accessAllowed ? 'block' : 'none';\n",
              "}\n",
              "\n",
              "        displayQuickchartButton(document);\n",
              "      </script>\n",
              "      <style>\n",
              "    .colab-df-container {\n",
              "      display:flex;\n",
              "      flex-wrap:wrap;\n",
              "      gap: 12px;\n",
              "    }\n",
              "\n",
              "    .colab-df-convert {\n",
              "      background-color: #E8F0FE;\n",
              "      border: none;\n",
              "      border-radius: 50%;\n",
              "      cursor: pointer;\n",
              "      display: none;\n",
              "      fill: #1967D2;\n",
              "      height: 32px;\n",
              "      padding: 0 0 0 0;\n",
              "      width: 32px;\n",
              "    }\n",
              "\n",
              "    .colab-df-convert:hover {\n",
              "      background-color: #E2EBFA;\n",
              "      box-shadow: 0px 1px 2px rgba(60, 64, 67, 0.3), 0px 1px 3px 1px rgba(60, 64, 67, 0.15);\n",
              "      fill: #174EA6;\n",
              "    }\n",
              "\n",
              "    [theme=dark] .colab-df-convert {\n",
              "      background-color: #3B4455;\n",
              "      fill: #D2E3FC;\n",
              "    }\n",
              "\n",
              "    [theme=dark] .colab-df-convert:hover {\n",
              "      background-color: #434B5C;\n",
              "      box-shadow: 0px 1px 3px 1px rgba(0, 0, 0, 0.15);\n",
              "      filter: drop-shadow(0px 1px 2px rgba(0, 0, 0, 0.3));\n",
              "      fill: #FFFFFF;\n",
              "    }\n",
              "  </style>\n",
              "\n",
              "      <script>\n",
              "        const buttonEl =\n",
              "          document.querySelector('#df-d9f98bca-36b1-4397-beff-ff7f39560d93 button.colab-df-convert');\n",
              "        buttonEl.style.display =\n",
              "          google.colab.kernel.accessAllowed ? 'block' : 'none';\n",
              "\n",
              "        async function convertToInteractive(key) {\n",
              "          const element = document.querySelector('#df-d9f98bca-36b1-4397-beff-ff7f39560d93');\n",
              "          const dataTable =\n",
              "            await google.colab.kernel.invokeFunction('convertToInteractive',\n",
              "                                                     [key], {});\n",
              "          if (!dataTable) return;\n",
              "\n",
              "          const docLinkHtml = 'Like what you see? Visit the ' +\n",
              "            '<a target=\"_blank\" href=https://colab.research.google.com/notebooks/data_table.ipynb>data table notebook</a>'\n",
              "            + ' to learn more about interactive tables.';\n",
              "          element.innerHTML = '';\n",
              "          dataTable['output_type'] = 'display_data';\n",
              "          await google.colab.output.renderOutput(dataTable, element);\n",
              "          const docLink = document.createElement('div');\n",
              "          docLink.innerHTML = docLinkHtml;\n",
              "          element.appendChild(docLink);\n",
              "        }\n",
              "      </script>\n",
              "    </div>\n",
              "  </div>\n"
            ]
          },
          "metadata": {},
          "execution_count": 10
        }
      ]
    },
    {
      "cell_type": "code",
      "source": [
        "# Visualizando as primeiras 5 linhas\n",
        "df_books_pred.head(n=5)"
      ],
      "metadata": {
        "colab": {
          "base_uri": "https://localhost:8080/",
          "height": 206
        },
        "id": "WIrDI7cDJSVL",
        "outputId": "d568b5bc-cc3c-4c1a-832f-5ebe47984735"
      },
      "execution_count": 19,
      "outputs": [
        {
          "output_type": "execute_result",
          "data": {
            "text/plain": [
              "                                                Book         Author  \\\n",
              "0                              To Kill a Mockingbird     Harper Lee   \n",
              "1  Harry Potter and the Philosopher’s Stone (Harr...   J.K. Rowling   \n",
              "2                                Pride and Prejudice    Jane Austen   \n",
              "3                          The Diary of a Young Girl     Anne Frank   \n",
              "4                                        Animal Farm  George Orwell   \n",
              "\n",
              "                                         Description      Genre_P  \\\n",
              "0  The unforgettable novel of a childhood in a sl...  ['Classics'   \n",
              "1  Harry Potter thinks he is an ordinary boy - un...   ['Fantasy'   \n",
              "2  Since its immediate success in 1813, Pride and...  ['Classics'   \n",
              "3  Discovered in the attic in which she spent the...  ['Classics'   \n",
              "4  Librarian's note: There is an Alternate Cover ...  ['Classics'   \n",
              "\n",
              "         Genre_S                Genre_T  \n",
              "0      'Fiction'   'Historical Fiction'  \n",
              "1      'Fiction'          'Young Adult'  \n",
              "2      'Fiction'              'Romance'  \n",
              "3   'Nonfiction'              'History'  \n",
              "4      'Fiction'             'Dystopia'  "
            ],
            "text/html": [
              "\n",
              "\n",
              "  <div id=\"df-1c2c7b2e-6eb9-4e22-841f-6418402baa1c\">\n",
              "    <div class=\"colab-df-container\">\n",
              "      <div>\n",
              "<style scoped>\n",
              "    .dataframe tbody tr th:only-of-type {\n",
              "        vertical-align: middle;\n",
              "    }\n",
              "\n",
              "    .dataframe tbody tr th {\n",
              "        vertical-align: top;\n",
              "    }\n",
              "\n",
              "    .dataframe thead th {\n",
              "        text-align: right;\n",
              "    }\n",
              "</style>\n",
              "<table border=\"1\" class=\"dataframe\">\n",
              "  <thead>\n",
              "    <tr style=\"text-align: right;\">\n",
              "      <th></th>\n",
              "      <th>Book</th>\n",
              "      <th>Author</th>\n",
              "      <th>Description</th>\n",
              "      <th>Genre_P</th>\n",
              "      <th>Genre_S</th>\n",
              "      <th>Genre_T</th>\n",
              "    </tr>\n",
              "  </thead>\n",
              "  <tbody>\n",
              "    <tr>\n",
              "      <th>0</th>\n",
              "      <td>To Kill a Mockingbird</td>\n",
              "      <td>Harper Lee</td>\n",
              "      <td>The unforgettable novel of a childhood in a sl...</td>\n",
              "      <td>['Classics'</td>\n",
              "      <td>'Fiction'</td>\n",
              "      <td>'Historical Fiction'</td>\n",
              "    </tr>\n",
              "    <tr>\n",
              "      <th>1</th>\n",
              "      <td>Harry Potter and the Philosopher’s Stone (Harr...</td>\n",
              "      <td>J.K. Rowling</td>\n",
              "      <td>Harry Potter thinks he is an ordinary boy - un...</td>\n",
              "      <td>['Fantasy'</td>\n",
              "      <td>'Fiction'</td>\n",
              "      <td>'Young Adult'</td>\n",
              "    </tr>\n",
              "    <tr>\n",
              "      <th>2</th>\n",
              "      <td>Pride and Prejudice</td>\n",
              "      <td>Jane Austen</td>\n",
              "      <td>Since its immediate success in 1813, Pride and...</td>\n",
              "      <td>['Classics'</td>\n",
              "      <td>'Fiction'</td>\n",
              "      <td>'Romance'</td>\n",
              "    </tr>\n",
              "    <tr>\n",
              "      <th>3</th>\n",
              "      <td>The Diary of a Young Girl</td>\n",
              "      <td>Anne Frank</td>\n",
              "      <td>Discovered in the attic in which she spent the...</td>\n",
              "      <td>['Classics'</td>\n",
              "      <td>'Nonfiction'</td>\n",
              "      <td>'History'</td>\n",
              "    </tr>\n",
              "    <tr>\n",
              "      <th>4</th>\n",
              "      <td>Animal Farm</td>\n",
              "      <td>George Orwell</td>\n",
              "      <td>Librarian's note: There is an Alternate Cover ...</td>\n",
              "      <td>['Classics'</td>\n",
              "      <td>'Fiction'</td>\n",
              "      <td>'Dystopia'</td>\n",
              "    </tr>\n",
              "  </tbody>\n",
              "</table>\n",
              "</div>\n",
              "      <button class=\"colab-df-convert\" onclick=\"convertToInteractive('df-1c2c7b2e-6eb9-4e22-841f-6418402baa1c')\"\n",
              "              title=\"Convert this dataframe to an interactive table.\"\n",
              "              style=\"display:none;\">\n",
              "\n",
              "  <svg xmlns=\"http://www.w3.org/2000/svg\" height=\"24px\"viewBox=\"0 0 24 24\"\n",
              "       width=\"24px\">\n",
              "    <path d=\"M0 0h24v24H0V0z\" fill=\"none\"/>\n",
              "    <path d=\"M18.56 5.44l.94 2.06.94-2.06 2.06-.94-2.06-.94-.94-2.06-.94 2.06-2.06.94zm-11 1L8.5 8.5l.94-2.06 2.06-.94-2.06-.94L8.5 2.5l-.94 2.06-2.06.94zm10 10l.94 2.06.94-2.06 2.06-.94-2.06-.94-.94-2.06-.94 2.06-2.06.94z\"/><path d=\"M17.41 7.96l-1.37-1.37c-.4-.4-.92-.59-1.43-.59-.52 0-1.04.2-1.43.59L10.3 9.45l-7.72 7.72c-.78.78-.78 2.05 0 2.83L4 21.41c.39.39.9.59 1.41.59.51 0 1.02-.2 1.41-.59l7.78-7.78 2.81-2.81c.8-.78.8-2.07 0-2.86zM5.41 20L4 18.59l7.72-7.72 1.47 1.35L5.41 20z\"/>\n",
              "  </svg>\n",
              "      </button>\n",
              "\n",
              "\n",
              "\n",
              "    <div id=\"df-3b46df2e-f0be-4602-986f-fba0569a871c\">\n",
              "      <button class=\"colab-df-quickchart\" onclick=\"quickchart('df-3b46df2e-f0be-4602-986f-fba0569a871c')\"\n",
              "              title=\"Suggest charts.\"\n",
              "              style=\"display:none;\">\n",
              "\n",
              "<svg xmlns=\"http://www.w3.org/2000/svg\" height=\"24px\"viewBox=\"0 0 24 24\"\n",
              "     width=\"24px\">\n",
              "    <g>\n",
              "        <path d=\"M19 3H5c-1.1 0-2 .9-2 2v14c0 1.1.9 2 2 2h14c1.1 0 2-.9 2-2V5c0-1.1-.9-2-2-2zM9 17H7v-7h2v7zm4 0h-2V7h2v10zm4 0h-2v-4h2v4z\"/>\n",
              "    </g>\n",
              "</svg>\n",
              "      </button>\n",
              "    </div>\n",
              "\n",
              "<style>\n",
              "  .colab-df-quickchart {\n",
              "    background-color: #E8F0FE;\n",
              "    border: none;\n",
              "    border-radius: 50%;\n",
              "    cursor: pointer;\n",
              "    display: none;\n",
              "    fill: #1967D2;\n",
              "    height: 32px;\n",
              "    padding: 0 0 0 0;\n",
              "    width: 32px;\n",
              "  }\n",
              "\n",
              "  .colab-df-quickchart:hover {\n",
              "    background-color: #E2EBFA;\n",
              "    box-shadow: 0px 1px 2px rgba(60, 64, 67, 0.3), 0px 1px 3px 1px rgba(60, 64, 67, 0.15);\n",
              "    fill: #174EA6;\n",
              "  }\n",
              "\n",
              "  [theme=dark] .colab-df-quickchart {\n",
              "    background-color: #3B4455;\n",
              "    fill: #D2E3FC;\n",
              "  }\n",
              "\n",
              "  [theme=dark] .colab-df-quickchart:hover {\n",
              "    background-color: #434B5C;\n",
              "    box-shadow: 0px 1px 3px 1px rgba(0, 0, 0, 0.15);\n",
              "    filter: drop-shadow(0px 1px 2px rgba(0, 0, 0, 0.3));\n",
              "    fill: #FFFFFF;\n",
              "  }\n",
              "</style>\n",
              "\n",
              "    <script>\n",
              "      async function quickchart(key) {\n",
              "        const containerElement = document.querySelector('#' + key);\n",
              "        const charts = await google.colab.kernel.invokeFunction(\n",
              "            'suggestCharts', [key], {});\n",
              "      }\n",
              "    </script>\n",
              "\n",
              "      <script>\n",
              "\n",
              "function displayQuickchartButton(domScope) {\n",
              "  let quickchartButtonEl =\n",
              "    domScope.querySelector('#df-3b46df2e-f0be-4602-986f-fba0569a871c button.colab-df-quickchart');\n",
              "  quickchartButtonEl.style.display =\n",
              "    google.colab.kernel.accessAllowed ? 'block' : 'none';\n",
              "}\n",
              "\n",
              "        displayQuickchartButton(document);\n",
              "      </script>\n",
              "      <style>\n",
              "    .colab-df-container {\n",
              "      display:flex;\n",
              "      flex-wrap:wrap;\n",
              "      gap: 12px;\n",
              "    }\n",
              "\n",
              "    .colab-df-convert {\n",
              "      background-color: #E8F0FE;\n",
              "      border: none;\n",
              "      border-radius: 50%;\n",
              "      cursor: pointer;\n",
              "      display: none;\n",
              "      fill: #1967D2;\n",
              "      height: 32px;\n",
              "      padding: 0 0 0 0;\n",
              "      width: 32px;\n",
              "    }\n",
              "\n",
              "    .colab-df-convert:hover {\n",
              "      background-color: #E2EBFA;\n",
              "      box-shadow: 0px 1px 2px rgba(60, 64, 67, 0.3), 0px 1px 3px 1px rgba(60, 64, 67, 0.15);\n",
              "      fill: #174EA6;\n",
              "    }\n",
              "\n",
              "    [theme=dark] .colab-df-convert {\n",
              "      background-color: #3B4455;\n",
              "      fill: #D2E3FC;\n",
              "    }\n",
              "\n",
              "    [theme=dark] .colab-df-convert:hover {\n",
              "      background-color: #434B5C;\n",
              "      box-shadow: 0px 1px 3px 1px rgba(0, 0, 0, 0.15);\n",
              "      filter: drop-shadow(0px 1px 2px rgba(0, 0, 0, 0.3));\n",
              "      fill: #FFFFFF;\n",
              "    }\n",
              "  </style>\n",
              "\n",
              "      <script>\n",
              "        const buttonEl =\n",
              "          document.querySelector('#df-1c2c7b2e-6eb9-4e22-841f-6418402baa1c button.colab-df-convert');\n",
              "        buttonEl.style.display =\n",
              "          google.colab.kernel.accessAllowed ? 'block' : 'none';\n",
              "\n",
              "        async function convertToInteractive(key) {\n",
              "          const element = document.querySelector('#df-1c2c7b2e-6eb9-4e22-841f-6418402baa1c');\n",
              "          const dataTable =\n",
              "            await google.colab.kernel.invokeFunction('convertToInteractive',\n",
              "                                                     [key], {});\n",
              "          if (!dataTable) return;\n",
              "\n",
              "          const docLinkHtml = 'Like what you see? Visit the ' +\n",
              "            '<a target=\"_blank\" href=https://colab.research.google.com/notebooks/data_table.ipynb>data table notebook</a>'\n",
              "            + ' to learn more about interactive tables.';\n",
              "          element.innerHTML = '';\n",
              "          dataTable['output_type'] = 'display_data';\n",
              "          await google.colab.output.renderOutput(dataTable, element);\n",
              "          const docLink = document.createElement('div');\n",
              "          docLink.innerHTML = docLinkHtml;\n",
              "          element.appendChild(docLink);\n",
              "        }\n",
              "      </script>\n",
              "    </div>\n",
              "  </div>\n"
            ]
          },
          "metadata": {},
          "execution_count": 19
        }
      ]
    },
    {
      "cell_type": "code",
      "source": [
        "# Visualizando as últimas 5 linhas\n",
        "df_books_pred.tail(n=5)"
      ],
      "metadata": {
        "colab": {
          "base_uri": "https://localhost:8080/",
          "height": 250
        },
        "id": "Xjf0b-kVJeaL",
        "outputId": "c717b5c6-3c21-4b33-e5e1-b4ad79edf0f8"
      },
      "execution_count": 20,
      "outputs": [
        {
          "output_type": "execute_result",
          "data": {
            "text/plain": [
              "                                    Book             Author  \\\n",
              "9995     Breeders (Breeders Trilogy, #1)     Ashley Quigley   \n",
              "9996                              Dynamo  Eleanor Gustafson   \n",
              "9997               The Republic of Trees         Sam Taylor   \n",
              "9998      Waking Up (Healing Hearts, #1)         Renee Dyer   \n",
              "9999  Bits and Pieces: Tales and Sonnets        Jas T. Ward   \n",
              "\n",
              "                                            Description       Genre_P  \\\n",
              "9995  How far would you go? If human society was gen...   ['Dystopia'   \n",
              "9996  Jeth Cavanaugh is searching for a new life alo...            []   \n",
              "9997  This dark fable tells the story of four Englis...    ['Fiction'   \n",
              "9998  For Adriana Monroe life couldn’t get any bette...  ['New Adult'   \n",
              "9999  After demands of thousands of fans in various ...            []   \n",
              "\n",
              "                 Genre_S                  Genre_T  \n",
              "9995   'Science Fiction'       'Post Apocalyptic'  \n",
              "9996                None                     None  \n",
              "9997            'Horror'               'Dystopia'  \n",
              "9998           'Romance'   'Contemporary Romance'  \n",
              "9999                None                     None  "
            ],
            "text/html": [
              "\n",
              "\n",
              "  <div id=\"df-33af5a7d-575d-4507-ade4-7a1a1cf4992b\">\n",
              "    <div class=\"colab-df-container\">\n",
              "      <div>\n",
              "<style scoped>\n",
              "    .dataframe tbody tr th:only-of-type {\n",
              "        vertical-align: middle;\n",
              "    }\n",
              "\n",
              "    .dataframe tbody tr th {\n",
              "        vertical-align: top;\n",
              "    }\n",
              "\n",
              "    .dataframe thead th {\n",
              "        text-align: right;\n",
              "    }\n",
              "</style>\n",
              "<table border=\"1\" class=\"dataframe\">\n",
              "  <thead>\n",
              "    <tr style=\"text-align: right;\">\n",
              "      <th></th>\n",
              "      <th>Book</th>\n",
              "      <th>Author</th>\n",
              "      <th>Description</th>\n",
              "      <th>Genre_P</th>\n",
              "      <th>Genre_S</th>\n",
              "      <th>Genre_T</th>\n",
              "    </tr>\n",
              "  </thead>\n",
              "  <tbody>\n",
              "    <tr>\n",
              "      <th>9995</th>\n",
              "      <td>Breeders (Breeders Trilogy, #1)</td>\n",
              "      <td>Ashley Quigley</td>\n",
              "      <td>How far would you go? If human society was gen...</td>\n",
              "      <td>['Dystopia'</td>\n",
              "      <td>'Science Fiction'</td>\n",
              "      <td>'Post Apocalyptic'</td>\n",
              "    </tr>\n",
              "    <tr>\n",
              "      <th>9996</th>\n",
              "      <td>Dynamo</td>\n",
              "      <td>Eleanor Gustafson</td>\n",
              "      <td>Jeth Cavanaugh is searching for a new life alo...</td>\n",
              "      <td>[]</td>\n",
              "      <td>None</td>\n",
              "      <td>None</td>\n",
              "    </tr>\n",
              "    <tr>\n",
              "      <th>9997</th>\n",
              "      <td>The Republic of Trees</td>\n",
              "      <td>Sam Taylor</td>\n",
              "      <td>This dark fable tells the story of four Englis...</td>\n",
              "      <td>['Fiction'</td>\n",
              "      <td>'Horror'</td>\n",
              "      <td>'Dystopia'</td>\n",
              "    </tr>\n",
              "    <tr>\n",
              "      <th>9998</th>\n",
              "      <td>Waking Up (Healing Hearts, #1)</td>\n",
              "      <td>Renee Dyer</td>\n",
              "      <td>For Adriana Monroe life couldn’t get any bette...</td>\n",
              "      <td>['New Adult'</td>\n",
              "      <td>'Romance'</td>\n",
              "      <td>'Contemporary Romance'</td>\n",
              "    </tr>\n",
              "    <tr>\n",
              "      <th>9999</th>\n",
              "      <td>Bits and Pieces: Tales and Sonnets</td>\n",
              "      <td>Jas T. Ward</td>\n",
              "      <td>After demands of thousands of fans in various ...</td>\n",
              "      <td>[]</td>\n",
              "      <td>None</td>\n",
              "      <td>None</td>\n",
              "    </tr>\n",
              "  </tbody>\n",
              "</table>\n",
              "</div>\n",
              "      <button class=\"colab-df-convert\" onclick=\"convertToInteractive('df-33af5a7d-575d-4507-ade4-7a1a1cf4992b')\"\n",
              "              title=\"Convert this dataframe to an interactive table.\"\n",
              "              style=\"display:none;\">\n",
              "\n",
              "  <svg xmlns=\"http://www.w3.org/2000/svg\" height=\"24px\"viewBox=\"0 0 24 24\"\n",
              "       width=\"24px\">\n",
              "    <path d=\"M0 0h24v24H0V0z\" fill=\"none\"/>\n",
              "    <path d=\"M18.56 5.44l.94 2.06.94-2.06 2.06-.94-2.06-.94-.94-2.06-.94 2.06-2.06.94zm-11 1L8.5 8.5l.94-2.06 2.06-.94-2.06-.94L8.5 2.5l-.94 2.06-2.06.94zm10 10l.94 2.06.94-2.06 2.06-.94-2.06-.94-.94-2.06-.94 2.06-2.06.94z\"/><path d=\"M17.41 7.96l-1.37-1.37c-.4-.4-.92-.59-1.43-.59-.52 0-1.04.2-1.43.59L10.3 9.45l-7.72 7.72c-.78.78-.78 2.05 0 2.83L4 21.41c.39.39.9.59 1.41.59.51 0 1.02-.2 1.41-.59l7.78-7.78 2.81-2.81c.8-.78.8-2.07 0-2.86zM5.41 20L4 18.59l7.72-7.72 1.47 1.35L5.41 20z\"/>\n",
              "  </svg>\n",
              "      </button>\n",
              "\n",
              "\n",
              "\n",
              "    <div id=\"df-18a687bd-c872-42ca-84d7-c860b101be6b\">\n",
              "      <button class=\"colab-df-quickchart\" onclick=\"quickchart('df-18a687bd-c872-42ca-84d7-c860b101be6b')\"\n",
              "              title=\"Suggest charts.\"\n",
              "              style=\"display:none;\">\n",
              "\n",
              "<svg xmlns=\"http://www.w3.org/2000/svg\" height=\"24px\"viewBox=\"0 0 24 24\"\n",
              "     width=\"24px\">\n",
              "    <g>\n",
              "        <path d=\"M19 3H5c-1.1 0-2 .9-2 2v14c0 1.1.9 2 2 2h14c1.1 0 2-.9 2-2V5c0-1.1-.9-2-2-2zM9 17H7v-7h2v7zm4 0h-2V7h2v10zm4 0h-2v-4h2v4z\"/>\n",
              "    </g>\n",
              "</svg>\n",
              "      </button>\n",
              "    </div>\n",
              "\n",
              "<style>\n",
              "  .colab-df-quickchart {\n",
              "    background-color: #E8F0FE;\n",
              "    border: none;\n",
              "    border-radius: 50%;\n",
              "    cursor: pointer;\n",
              "    display: none;\n",
              "    fill: #1967D2;\n",
              "    height: 32px;\n",
              "    padding: 0 0 0 0;\n",
              "    width: 32px;\n",
              "  }\n",
              "\n",
              "  .colab-df-quickchart:hover {\n",
              "    background-color: #E2EBFA;\n",
              "    box-shadow: 0px 1px 2px rgba(60, 64, 67, 0.3), 0px 1px 3px 1px rgba(60, 64, 67, 0.15);\n",
              "    fill: #174EA6;\n",
              "  }\n",
              "\n",
              "  [theme=dark] .colab-df-quickchart {\n",
              "    background-color: #3B4455;\n",
              "    fill: #D2E3FC;\n",
              "  }\n",
              "\n",
              "  [theme=dark] .colab-df-quickchart:hover {\n",
              "    background-color: #434B5C;\n",
              "    box-shadow: 0px 1px 3px 1px rgba(0, 0, 0, 0.15);\n",
              "    filter: drop-shadow(0px 1px 2px rgba(0, 0, 0, 0.3));\n",
              "    fill: #FFFFFF;\n",
              "  }\n",
              "</style>\n",
              "\n",
              "    <script>\n",
              "      async function quickchart(key) {\n",
              "        const containerElement = document.querySelector('#' + key);\n",
              "        const charts = await google.colab.kernel.invokeFunction(\n",
              "            'suggestCharts', [key], {});\n",
              "      }\n",
              "    </script>\n",
              "\n",
              "      <script>\n",
              "\n",
              "function displayQuickchartButton(domScope) {\n",
              "  let quickchartButtonEl =\n",
              "    domScope.querySelector('#df-18a687bd-c872-42ca-84d7-c860b101be6b button.colab-df-quickchart');\n",
              "  quickchartButtonEl.style.display =\n",
              "    google.colab.kernel.accessAllowed ? 'block' : 'none';\n",
              "}\n",
              "\n",
              "        displayQuickchartButton(document);\n",
              "      </script>\n",
              "      <style>\n",
              "    .colab-df-container {\n",
              "      display:flex;\n",
              "      flex-wrap:wrap;\n",
              "      gap: 12px;\n",
              "    }\n",
              "\n",
              "    .colab-df-convert {\n",
              "      background-color: #E8F0FE;\n",
              "      border: none;\n",
              "      border-radius: 50%;\n",
              "      cursor: pointer;\n",
              "      display: none;\n",
              "      fill: #1967D2;\n",
              "      height: 32px;\n",
              "      padding: 0 0 0 0;\n",
              "      width: 32px;\n",
              "    }\n",
              "\n",
              "    .colab-df-convert:hover {\n",
              "      background-color: #E2EBFA;\n",
              "      box-shadow: 0px 1px 2px rgba(60, 64, 67, 0.3), 0px 1px 3px 1px rgba(60, 64, 67, 0.15);\n",
              "      fill: #174EA6;\n",
              "    }\n",
              "\n",
              "    [theme=dark] .colab-df-convert {\n",
              "      background-color: #3B4455;\n",
              "      fill: #D2E3FC;\n",
              "    }\n",
              "\n",
              "    [theme=dark] .colab-df-convert:hover {\n",
              "      background-color: #434B5C;\n",
              "      box-shadow: 0px 1px 3px 1px rgba(0, 0, 0, 0.15);\n",
              "      filter: drop-shadow(0px 1px 2px rgba(0, 0, 0, 0.3));\n",
              "      fill: #FFFFFF;\n",
              "    }\n",
              "  </style>\n",
              "\n",
              "      <script>\n",
              "        const buttonEl =\n",
              "          document.querySelector('#df-33af5a7d-575d-4507-ade4-7a1a1cf4992b button.colab-df-convert');\n",
              "        buttonEl.style.display =\n",
              "          google.colab.kernel.accessAllowed ? 'block' : 'none';\n",
              "\n",
              "        async function convertToInteractive(key) {\n",
              "          const element = document.querySelector('#df-33af5a7d-575d-4507-ade4-7a1a1cf4992b');\n",
              "          const dataTable =\n",
              "            await google.colab.kernel.invokeFunction('convertToInteractive',\n",
              "                                                     [key], {});\n",
              "          if (!dataTable) return;\n",
              "\n",
              "          const docLinkHtml = 'Like what you see? Visit the ' +\n",
              "            '<a target=\"_blank\" href=https://colab.research.google.com/notebooks/data_table.ipynb>data table notebook</a>'\n",
              "            + ' to learn more about interactive tables.';\n",
              "          element.innerHTML = '';\n",
              "          dataTable['output_type'] = 'display_data';\n",
              "          await google.colab.output.renderOutput(dataTable, element);\n",
              "          const docLink = document.createElement('div');\n",
              "          docLink.innerHTML = docLinkHtml;\n",
              "          element.appendChild(docLink);\n",
              "        }\n",
              "      </script>\n",
              "    </div>\n",
              "  </div>\n"
            ]
          },
          "metadata": {},
          "execution_count": 20
        }
      ]
    },
    {
      "cell_type": "markdown",
      "source": [
        "# 5. Pré-processamento dos Dados\n"
      ],
      "metadata": {
        "id": "HpkU2_vaKC3O"
      }
    },
    {
      "cell_type": "markdown",
      "source": [
        "## 5.1 Tratamento de Missings e Limpeza"
      ],
      "metadata": {
        "id": "-mbTQcHaLkPC"
      }
    },
    {
      "cell_type": "code",
      "source": [
        "# Na leitura dos dados do dataset, já é possível verificar que as colunas de\n",
        "# gêneros precisam passar por uma limpeza\n",
        "patt = r\"[a-zA-Z]+\"\n",
        "gen_cols = ['Genre_P', 'Genre_S', 'Genre_T']\n",
        "for g in gen_cols:\n",
        "    df_books_pred[g] = df_books_pred[g].apply(\n",
        "        lambda x: \" \".join(re.findall(\"[a-zA-Z]+\", str(x))))"
      ],
      "metadata": {
        "id": "v7xeNSwJKenR"
      },
      "execution_count": 23,
      "outputs": []
    },
    {
      "cell_type": "code",
      "source": [
        "# Verificando os atributos que possuem nulos\n",
        "df_books_pred.isnull().sum()"
      ],
      "metadata": {
        "colab": {
          "base_uri": "https://localhost:8080/"
        },
        "id": "H473a4AILrgm",
        "outputId": "03932540-c778-4701-ec0e-df21d9a8f8de"
      },
      "execution_count": 25,
      "outputs": [
        {
          "output_type": "execute_result",
          "data": {
            "text/plain": [
              "Book            0\n",
              "Author          0\n",
              "Description    77\n",
              "Genre_P         0\n",
              "Genre_S         0\n",
              "Genre_T         0\n",
              "dtype: int64"
            ]
          },
          "metadata": {},
          "execution_count": 25
        }
      ]
    },
    {
      "cell_type": "code",
      "source": [
        "# Exibindo a matriz de nulidade do dataframe\n",
        "ms.matrix(df_books_pred)"
      ],
      "metadata": {
        "colab": {
          "base_uri": "https://localhost:8080/",
          "height": 538
        },
        "id": "IDCLYcOIMGCB",
        "outputId": "7e92e2de-3379-4969-ed25-8cf1ac5ce321"
      },
      "execution_count": 28,
      "outputs": [
        {
          "output_type": "execute_result",
          "data": {
            "text/plain": [
              "<Axes: >"
            ]
          },
          "metadata": {},
          "execution_count": 28
        },
        {
          "output_type": "display_data",
          "data": {
            "text/plain": [
              "<Figure size 2500x1000 with 2 Axes>"
            ],
            "image/png": "[encoded data removed]"
          },
          "metadata": {}
        }
      ]
    },
    {
      "cell_type": "markdown",
      "source": [
        "O número de valores nulos é insignificante para o conjunto do dataset.\n",
        "Como se trata de uma coluna chave para o que se propõe esse estudo, a\n",
        "decisão será pela exclusão das linhas cujas descrições forem nulas."
      ],
      "metadata": {
        "id": "lPzviZdfNhlU"
      }
    },
    {
      "cell_type": "code",
      "source": [
        "# drop NULLs & reset index\n",
        "df_books_pred.dropna(inplace=True)\n",
        "df_books_pred.reset_index(drop=True, inplace=True)\n"
      ],
      "metadata": {
        "id": "BcdZ3a84OFUO"
      },
      "execution_count": 29,
      "outputs": []
    },
    {
      "cell_type": "markdown",
      "source": [
        "## 5.2 N-grams"
      ],
      "metadata": {
        "id": "QQmyfoILdoWV"
      }
    },
    {
      "cell_type": "markdown",
      "source": [
        "Utilizarei aqui a técnica TF-IDF para bigram e trigram, que consiste em trabalhar em sequências de 2 ou 3 palavras consecutivas como unidades básicas de análise. Essa técnica permite que o modelo capture mais informações de sequências de palavras, considerando a relação entre palavras vizinhas."
      ],
      "metadata": {
        "id": "PKOkqe1Md1z9"
      }
    },
    {
      "cell_type": "code",
      "source": [
        "#Convertendo descrição do livro em vetores usando TF-IDF Bigram\n",
        "tf_bigram = TfidfVectorizer(ngram_range=(2, 2),\n",
        "                            stop_words='english', lowercase = False)\n",
        "tfidf_matrix_bigram = tf_bigram.fit_transform(df_books_pred['Description'])\n",
        "total_words_bi = tfidf_matrix_bigram.sum(axis=0)\n",
        "\n",
        "#Localizando a frequencia da palavra\n",
        "freq_word = [(word, total_words_bi[0, idx]) for word,\n",
        "             idx in tf_bigram.vocabulary_.items()]\n",
        "freq_word = sorted(freq_word, key = lambda x: x[1], reverse=True)\n",
        "\n",
        "#Convertendo em dataframe\n",
        "df_bigram = pd.DataFrame(freq_word)\n",
        "df_bigram.rename(columns = {0:'bigram', 1: 'count'}, inplace = True)\n",
        "\n",
        "\n",
        "\n",
        "#Convertendo descrição do livro em vetores usando TF-IDF Trigram\n",
        "tf_trigram = TfidfVectorizer(ngram_range=(3, 3),\n",
        "                             stop_words='english', lowercase = False)\n",
        "tfidf_matrix_trigram = tf_trigram.fit_transform(df_books_pred['Description'])\n",
        "total_words_trigram = tfidf_matrix_trigram.sum(axis=0)\n",
        "\n",
        "#Localizando a frequencia da palavra\n",
        "freq_word = [(word, total_words_trigram[0, idx]) for word,\n",
        "             idx in tf_trigram.vocabulary_.items()]\n",
        "freq_word = sorted(freq_word, key = lambda x: x[1], reverse=True)\n",
        "\n",
        "#converting into dataframe\n",
        "df_trigram = pd.DataFrame(freq_word)\n",
        "df_trigram.rename(columns = {0:'trigram', 1: 'count'}, inplace = True)\n"
      ],
      "metadata": {
        "id": "d558F8-VZn2f"
      },
      "execution_count": 33,
      "outputs": []
    },
    {
      "cell_type": "code",
      "source": [
        "print(df_bigram.head(10))"
      ],
      "metadata": {
        "colab": {
          "base_uri": "https://localhost:8080/"
        },
        "id": "mbbivn6Jjace",
        "outputId": "55037101-ec85-482b-e28e-ceba85d9714d"
      },
      "execution_count": 40,
      "outputs": [
        {
          "output_type": "stream",
          "name": "stdout",
          "text": [
            "               bigram      count\n",
            "0            New York  34.061025\n",
            "1            year old  32.966574\n",
            "2           This book  20.928422\n",
            "3          York Times  20.456094\n",
            "4           World War  14.329714\n",
            "5         best friend  14.076418\n",
            "6           years ago  12.888485\n",
            "7  bestselling author  12.880781\n",
            "8       United States  11.726320\n",
            "9         young woman  11.302555\n"
          ]
        }
      ]
    },
    {
      "cell_type": "code",
      "source": [
        "print(df_trigram.head(10))"
      ],
      "metadata": {
        "colab": {
          "base_uri": "https://localhost:8080/"
        },
        "id": "yEszurOOkMj7",
        "outputId": "0cd8c255-7e2c-478d-aef6-a68d0a6029b8"
      },
      "execution_count": 44,
      "outputs": [
        {
          "output_type": "stream",
          "name": "stdout",
          "text": [
            "                    trigram      count\n",
            "0            New York Times  20.132448\n",
            "1    York Times bestselling  10.195514\n",
            "2              World War II   8.392039\n",
            "3             New York City   8.328253\n",
            "4  Times bestselling author   7.237586\n",
            "5   alternate cover edition   5.335741\n",
            "6              The New York   5.142864\n",
            "7        cover edition ISBN   4.685541\n",
            "8     York Times bestseller   4.657821\n",
            "9   Alternate cover edition   4.582805\n"
          ]
        }
      ]
    },
    {
      "cell_type": "code",
      "source": [
        "# Visualizando o bigram\n",
        "n = 10\n",
        "bigram = df_bigram.head(n)\n",
        "\n",
        "# plot Bigram\n",
        "fig = go.Figure(data=[go.Bar(x=df_bigram['bigram'].to_list(),\n",
        "                             y=df_bigram['count'].to_list(),\n",
        "            hovertext=df_bigram['count'].to_list())])\n",
        "\n",
        "# Customize aspect\n",
        "fig.update_traces(marker_color='rgb(255,135,91)',\n",
        "                  marker_line_color='rgb(65,53,255)',\n",
        "                  marker_line_width=1.5, opacity=0.6)\n",
        "fig.update_layout(title_text=\"Distribuição Bigram para as top \" + str(n) +\n",
        "                  \" palavras contidas na descrição do livro\")\n",
        "fig.show()"
      ],
      "metadata": {
        "id": "8l_4ToaAhSRp"
      },
      "execution_count": 46,
      "outputs": []
    },
    {
      "cell_type": "code",
      "source": [
        "# Visualizando o Trigram\n",
        "trigram = df_trigram.head(n)\n",
        "\n",
        "# plot Trigram\n",
        "fig = go.Figure(data=[go.Bar(x=df_trigram['trigram'].to_list(),\n",
        "                             y=df_trigram['count'].to_list(),\n",
        "            hovertext=df_trigram['count'].to_list())])\n",
        "\n",
        "# Customize aspect\n",
        "fig.update_traces(marker_color='rgb(255,135,91)',\n",
        "                  marker_line_color='rgb(65,53,255)',\n",
        "                  marker_line_width=1.5, opacity=0.6)\n",
        "fig.update_layout(title_text=\"Distribuição Trigram para as top \" + str(n) +\n",
        "                  \" palavras contidas na descrição do livro\")\n",
        "fig.show()"
      ],
      "metadata": {
        "id": "ydwMIzAdilbK"
      },
      "execution_count": 42,
      "outputs": []
    },
    {
      "cell_type": "markdown",
      "source": [
        "## 5.3 Stop-words"
      ],
      "metadata": {
        "id": "vVG-Oj26l43-"
      }
    },
    {
      "cell_type": "code",
      "source": [
        "# Removendo stop_word\n",
        "def remove_stop_words(text):\n",
        "    text = text.split()\n",
        "    stops = set(stopwords.words(\"english\"))\n",
        "    text = [w for w in text if not w in stops]\n",
        "    text = \" \".join(text)\n",
        "    return text\n",
        "\n",
        "df_books_pred['Desc_Clean'] = df_books_pred.Description.apply(\n",
        "    func = remove_stop_words)"
      ],
      "metadata": {
        "id": "Y2GRpQw5l-wT"
      },
      "execution_count": 55,
      "outputs": []
    }
  ]
}